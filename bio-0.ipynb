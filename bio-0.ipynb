{
 "cells": [
  {
   "cell_type": "markdown",
   "id": "ef425c7e",
   "metadata": {},
   "source": [
    "首先安装 biopython 库"
   ]
  },
  {
   "cell_type": "code",
   "execution_count": 1,
   "id": "1a7e3158",
   "metadata": {},
   "outputs": [
    {
     "name": "stdout",
     "output_type": "stream",
     "text": [
      "Requirement already satisfied: biopython in m:\\anaconda3\\lib\\site-packages (1.78)\n",
      "Requirement already satisfied: numpy in m:\\anaconda3\\lib\\site-packages (from biopython) (1.21.5)\n",
      "Note: you may need to restart the kernel to use updated packages.\n"
     ]
    }
   ],
   "source": [
    "pip install biopython"
   ]
  },
  {
   "cell_type": "markdown",
   "id": "8d5acdef",
   "metadata": {},
   "source": [
    "然后我我们下载[一段DNA序列](https://www.kaggle.com/datasets/nageshsingh/dna-sequence-dataset)然后打开它"
   ]
  },
  {
   "cell_type": "code",
   "execution_count": 2,
   "id": "4ff2c638",
   "metadata": {},
   "outputs": [
    {
     "name": "stdout",
     "output_type": "stream",
     "text": [
      "ENST00000435737.5\n",
      "ENST00000419127.5\n"
     ]
    }
   ],
   "source": [
    "#import biopython\n",
    "from Bio import SeqIO\n",
    "for seq_record in SeqIO.parse('M:\\\\AI\\\\bio\\\\stepLEAP\\\\example_dna.fa', \"fasta\"):\n",
    "    print(seq_record.id)\n",
    "    #print(seq_record.seq)\n"
   ]
  },
  {
   "cell_type": "markdown",
   "id": "39291d72",
   "metadata": {},
   "source": [
    "然后序列化这一段 DNA 编码"
   ]
  },
  {
   "cell_type": "code",
   "execution_count": 3,
   "id": "51d1f4e4",
   "metadata": {},
   "outputs": [],
   "source": [
    "# function to convert a DNA sequence string to a numpy array\n",
    "# converts to lower case, changes any non 'acgt' characters to 'n'\n",
    "import numpy as np\n",
    "import re\n",
    "def string_to_array(my_string):\n",
    "    my_string = my_string.lower()\n",
    "    my_string = re.sub('[^acgt]', 'z', my_string)\n",
    "    my_array = np.array(list(my_string))\n",
    "    return my_array\n",
    "\n",
    "# create a label encoder with 'acgtn' alphabet\n",
    "from sklearn.preprocessing import LabelEncoder\n",
    "label_encoder = LabelEncoder()\n",
    "label_encoder.fit(np.array(['a','c','g','t','z']))\n",
    "\n",
    "# function to encode a DNA sequence string as an ordinal vector\n",
    "# returns a numpy vector with a=0.25, c=0.50, g=0.75, t=1.00, n=0.00\n",
    "def ordinal_encoder(my_array):\n",
    "    integer_encoded = label_encoder.transform(my_array)\n",
    "    float_encoded = integer_encoded.astype(float)\n",
    "    float_encoded[float_encoded == 0] = 0.25 # A\n",
    "    float_encoded[float_encoded == 1] = 0.50 # C\n",
    "    float_encoded[float_encoded == 2] = 0.75 # G\n",
    "    float_encoded[float_encoded == 3] = 1.00 # T\n",
    "    float_encoded[float_encoded == 4] = 0.00 # anything else, z\n",
    "    return float_encoded\n",
    "\n",
    "#test_sequence = 'AACGCGCTTNN'\n",
    "#ordinal_encoder(string_to_array(test_sequence))\n"
   ]
  },
  {
   "cell_type": "markdown",
   "id": "fd9a50f6",
   "metadata": {},
   "source": [
    "还可以使用 one-hot 编码 以及 k-mer 计数"
   ]
  },
  {
   "cell_type": "code",
   "execution_count": 4,
   "id": "2b6c0147",
   "metadata": {},
   "outputs": [],
   "source": [
    "def getKmers(sequence, size):\n",
    "    return [sequence[x:x+size].lower() for x in range(len(sequence) - size + 1)]\n",
    "#mySeq = 'CATGGCCATCCCCCCCCGAGCGGGGGGGGGG'\n",
    "#print(getKmers(mySeq, size=6))\n"
   ]
  },
  {
   "cell_type": "markdown",
   "id": "fe732a29",
   "metadata": {},
   "source": [
    "接下来读入一段人类的DNA"
   ]
  },
  {
   "cell_type": "code",
   "execution_count": 5,
   "id": "8314e962",
   "metadata": {},
   "outputs": [
    {
     "name": "stdout",
     "output_type": "stream",
     "text": [
      "                                            sequence  class\n",
      "0  ATGCCCCAACTAAATACTACCGTATGGCCCACCATAATTACCCCCA...      4\n",
      "1  ATGAACGAAAATCTGTTCGCTTCATTCATTGCCCCCACAATCCTAG...      4\n",
      "2  ATGTGTGGCATTTGGGCGCTGTTTGGCAGTGATGATTGCCTTTCTG...      3\n",
      "3  ATGTGTGGCATTTGGGCGCTGTTTGGCAGTGATGATTGCCTTTCTG...      3\n",
      "4  ATGCAACAGCATTTTGAATTTGAATACCAGACCAAAGTGGATGGTG...      3\n"
     ]
    }
   ],
   "source": [
    "import os\n",
    "import numpy as np\n",
    "import pandas as pd\n",
    "import matplotlib.pyplot as plt\n",
    "#%matplotlib inline  \n",
    "human = pd.read_table('M:\\\\AI\\\\bio\\\\stepLEAP\\\\human.txt')\n",
    "print(human.head())\n"
   ]
  },
  {
   "cell_type": "code",
   "execution_count": 6,
   "id": "0b5a96cd",
   "metadata": {},
   "outputs": [
    {
     "name": "stdout",
     "output_type": "stream",
     "text": [
      "                                            sequence  class\n",
      "0  ATGCCCCAACTAAATACCGCCGTATGACCCACCATAATTACCCCCA...      4\n",
      "1  ATGAACGAAAATCTATTCGCTTCATTCGCTGCCCCCACAATCCTAG...      4\n",
      "2  ATGGCCTCGCGCTGGTGGCGGTGGCGACGCGGCTGCTCCTGGAGGC...      4\n",
      "3  ATGGCCTCGCGCTGGTGGCGGTGGCGACGCGGCTGCTCCTGGAGGC...      4\n",
      "4  ATGGGCAGCGCCAGCCCGGGTCTGAGCAGCGTGTCCCCCAGCCACC...      6\n",
      "                                            sequence  class\n",
      "0  ATGCCACAGCTAGATACATCCACCTGATTTATTATAATCTTTTCAA...      4\n",
      "1  ATGAACGAAAATCTATTCGCTTCTTTCGCTGCCCCCTCAATAATAG...      4\n",
      "2  ATGGAAACACCCTTCTACGGCGATGAGGCGCTGAGCGGCCTGGGCG...      6\n",
      "3  ATGTGCACTAAAATGGAACAGCCCTTCTACCACGACGACTCATACG...      6\n",
      "4  ATGAGCCGGCAGCTAAACAGAAGCCAGAACTGCTCCTTCAGTGACG...      0\n"
     ]
    }
   ],
   "source": [
    "chimp = pd.read_table( 'M:\\\\AI\\\\bio\\\\stepLEAP\\\\chimpanzee.txt')\n",
    "dog = pd.read_table('M:\\\\AI\\\\bio\\\\stepLEAP\\\\dog.txt')\n",
    "print(chimp.head())\n",
    "print(dog.head())\n"
   ]
  },
  {
   "cell_type": "markdown",
   "id": "7c5436fc",
   "metadata": {},
   "source": [
    "读取图片（但是这个数据集没有）"
   ]
  },
  {
   "cell_type": "code",
   "execution_count": 7,
   "id": "56d08137",
   "metadata": {},
   "outputs": [
    {
     "data": {
      "image/png": "\n",
      "text/plain": [
       "<IPython.core.display.Image object>"
      ]
     },
     "execution_count": 7,
     "metadata": {},
     "output_type": "execute_result"
    }
   ],
   "source": [
    "from IPython.display import Image\n",
    "Image('M:\\\\AI\\\\bio\\\\stepLEAP\\\\capture1.png')\n"
   ]
  },
  {
   "cell_type": "markdown",
   "id": "01e7651e",
   "metadata": {},
   "source": [
    "定义函数收集到所有 k-mers"
   ]
  },
  {
   "cell_type": "code",
   "execution_count": 8,
   "id": "8d58e39c",
   "metadata": {},
   "outputs": [],
   "source": [
    "# function to convert sequence strings into k-mer words, default size = 6 (hexamer words)\n",
    "def getKmers(sequence, size=6):\n",
    "    return [sequence[x:x+size].lower() for x in range(len(sequence) - size + 1)]\n"
   ]
  },
  {
   "cell_type": "code",
   "execution_count": 9,
   "id": "342245ca",
   "metadata": {},
   "outputs": [],
   "source": [
    "human['words'] = human.apply(lambda x: getKmers(x['sequence']), axis=1)\n",
    "human = human.drop('sequence', axis=1)\n",
    "chimp['words'] = chimp.apply(lambda x: getKmers(x['sequence']), axis=1)\n",
    "chimp = chimp.drop('sequence', axis=1)\n",
    "dog['words'] = dog.apply(lambda x: getKmers(x['sequence']), axis=1)\n",
    "dog = dog.drop('sequence', axis=1)\n",
    "\n",
    "# print(human.head())\n",
    "# pandas 给出的用法是 DataFrame.apply(self, func, axis=0, raw=False, result_type=None, args=(), **kwds\n",
    "# axis:\n",
    "# 0 或者 index ，表示函数处理的是每一列；\n",
    "# 1 或 columns ，表示处理的是每一行;\n",
    "# raw:\n",
    "# False ，表示把每一行或列作为 Series 传入函数中；\n",
    "# True，表示接受的是 ndarray 数据类型；"
   ]
  },
  {
   "cell_type": "code",
   "execution_count": null,
   "id": "55a1df14",
   "metadata": {},
   "outputs": [],
   "source": []
  },
  {
   "cell_type": "code",
   "execution_count": 10,
   "id": "ff947faf",
   "metadata": {},
   "outputs": [
    {
     "name": "stdout",
     "output_type": "stream",
     "text": [
      "atgccc tgcccc gcccca ccccaa cccaac ccaact caacta aactaa actaaa ctaaat taaata aaatac aatact atacta tactac actacc ctaccg taccgt accgta ccgtat cgtatg gtatgg tatggc atggcc tggccc ggccca gcccac cccacc ccacca caccat accata ccataa cataat ataatt taatta aattac attacc ttaccc tacccc accccc ccccca ccccat cccata ccatac catact atactc tactcc actcct ctcctt tcctta ccttac cttaca ttacac tacact acacta cactat actatt ctattc tattcc attcct ttcctc tcctca cctcat ctcatc tcatca catcac atcacc tcaccc caccca acccaa cccaac ccaact caacta aactaa actaaa ctaaaa taaaaa aaaaat aaaata aaatat aatatt atatta tattaa attaaa ttaaac taaaca aaacac aacaca acacaa cacaaa acaaac caaact aaacta aactac actacc ctacca taccac accacc ccacct caccta acctac cctacc ctacct tacctc acctcc cctccc ctccct tccctc ccctca cctcac ctcacc tcacca caccaa accaaa ccaaag caaagc aaagcc aagccc agccca gcccat cccata ccataa cataaa ataaaa taaaaa aaaaat aaaata aaataa aataaa ataaaa taaaaa aaaaaa aaaaat aaaatt aaatta aattat attata ttataa tataac ataaca taacaa aacaaa acaaac caaacc aaaccc aaccct accctg ccctga cctgag ctgaga tgagaa gagaac agaacc gaacca aaccaa accaaa ccaaaa caaaat aaaatg aaatga aatgaa atgaac tgaacg gaacga aacgaa acgaaa cgaaaa gaaaat aaaatc aaatct aatctg atctgt tctgtt ctgttc tgttcg gttcgc ttcgct tcgctt cgcttc gcttca cttcat ttcatt tcattc cattca attcat ttcatt tcattg cattgc attgcc ttgccc tgcccc gccccc ccccca ccccac cccaca ccacaa cacaat acaatc caatcc aatcct atccta tcctag\n"
     ]
    }
   ],
   "source": [
    "human_texts = list(human['words'])\n",
    "for item in range(len(human_texts)):\n",
    "    human_texts[item] = ' '.join(human_texts[item])\n",
    "y_h = human.iloc[:, 0].values                         #y_h for human\n",
    "\n",
    "# human_texts 是基因数量\n",
    "print(human_texts[0])\n",
    "# print(y_h)"
   ]
  },
  {
   "cell_type": "markdown",
   "id": "6cfb8ace",
   "metadata": {},
   "source": []
  },
  {
   "cell_type": "code",
   "execution_count": 11,
   "id": "2b2aefb3",
   "metadata": {},
   "outputs": [],
   "source": [
    "chimp_texts = list(chimp['words'])\n",
    "for item in range(len(chimp_texts)):\n",
    "    chimp_texts[item] = ' '.join(chimp_texts[item])\n",
    "y_c = chimp.iloc[:, 0].values                       # y_c for chimp\n",
    "\n",
    "dog_texts = list(dog['words'])\n",
    "for item in range(len(dog_texts)):\n",
    "    dog_texts[item] = ' '.join(dog_texts[item])\n",
    "y_d = dog.iloc[:, 0].values                         # y_d for dog\n"
   ]
  },
  {
   "cell_type": "markdown",
   "id": "b280c7b2",
   "metadata": {},
   "source": []
  },
  {
   "cell_type": "code",
   "execution_count": 12,
   "id": "e5a820c6",
   "metadata": {},
   "outputs": [],
   "source": [
    "chimp_texts = list(chimp['words'])\n",
    "for item in range(len(chimp_texts)):\n",
    "    chimp_texts[item] = ' '.join(chimp_texts[item])\n",
    "y_c = chimp.iloc[:, 0].values                       # y_c for chimp\n",
    "\n",
    "dog_texts = list(dog['words'])\n",
    "for item in range(len(dog_texts)):\n",
    "    dog_texts[item] = ' '.join(dog_texts[item])\n",
    "y_d = dog.iloc[:, 0].values                         # y_d for dog\n"
   ]
  },
  {
   "cell_type": "markdown",
   "id": "bb3ef909",
   "metadata": {},
   "source": []
  },
  {
   "cell_type": "code",
   "execution_count": 13,
   "id": "0167a9ef",
   "metadata": {},
   "outputs": [
    {
     "name": "stdout",
     "output_type": "stream",
     "text": [
      "(4380, 232414)\n",
      "(1682, 232414)\n",
      "(820, 232414)\n"
     ]
    }
   ],
   "source": [
    "# Creating the Bag of Words model using CountVectorizer()\n",
    "# This is equivalent to k-mer counting\n",
    "# The n-gram size of 4 was previously determined by testing\n",
    "from sklearn.feature_extraction.text import CountVectorizer\n",
    "cv = CountVectorizer(ngram_range=(4,4))\n",
    "X = cv.fit_transform(human_texts)\n",
    "X_chimp = cv.transform(chimp_texts)\n",
    "X_dog = cv.transform(dog_texts)\n",
    "print(X.shape)\n",
    "print(X_chimp.shape)\n",
    "print(X_dog.shape)\n"
   ]
  },
  {
   "cell_type": "markdown",
   "id": "cf8c1e15",
   "metadata": {},
   "source": []
  },
  {
   "cell_type": "code",
   "execution_count": 14,
   "id": "bf721902",
   "metadata": {},
   "outputs": [
    {
     "data": {
      "image/png": "[encoded data removed]",
      "text/plain": [
       "<Figure size 640x480 with 1 Axes>"
      ]
     },
     "metadata": {},
     "output_type": "display_data"
    }
   ],
   "source": [
    "human['class'].value_counts().sort_index().plot.bar(title=\"human\")\n",
    "plt.tight_layout()\n",
    "plt.show()\n"
   ]
  },
  {
   "cell_type": "markdown",
   "id": "4618505c",
   "metadata": {},
   "source": []
  },
  {
   "cell_type": "code",
   "execution_count": 15,
   "id": "cf2bc1c4",
   "metadata": {},
   "outputs": [
    {
     "data": {
      "image/png": "[encoded data removed]",
      "text/plain": [
       "<Figure size 640x480 with 1 Axes>"
      ]
     },
     "metadata": {},
     "output_type": "display_data"
    }
   ],
   "source": [
    "chimp['class'].value_counts().sort_index().plot.bar(title=\"chimp\")\n",
    "plt.tight_layout()\n",
    "plt.show()\n"
   ]
  },
  {
   "cell_type": "markdown",
   "id": "d7a88d99",
   "metadata": {},
   "source": []
  },
  {
   "cell_type": "code",
   "execution_count": 16,
   "id": "49b4cca8",
   "metadata": {},
   "outputs": [
    {
     "data": {
      "image/png": "[encoded data removed]",
      "text/plain": [
       "<Figure size 640x480 with 1 Axes>"
      ]
     },
     "metadata": {},
     "output_type": "display_data"
    }
   ],
   "source": [
    "dog['class'].value_counts().sort_index().plot.bar(title=\"dog\")\n",
    "plt.tight_layout()\n",
    "plt.show()\n"
   ]
  },
  {
   "cell_type": "markdown",
   "id": "0734bc5f",
   "metadata": {},
   "source": [
    "接下来才是真正的ML部分，首先划分训练集和测试集"
   ]
  },
  {
   "cell_type": "code",
   "execution_count": 17,
   "id": "72fc3477",
   "metadata": {},
   "outputs": [
    {
     "name": "stdout",
     "output_type": "stream",
     "text": [
      "(3504, 232414)\n",
      "(876, 232414)\n"
     ]
    }
   ],
   "source": [
    "from sklearn.model_selection import train_test_split\n",
    "X_train, X_test, y_train, y_test = train_test_split(X, y_h, test_size = 0.20, random_state=42)\n",
    "\n",
    "print(X_train.shape)\n",
    "print(X_test.shape)\n",
    "\n"
   ]
  },
  {
   "cell_type": "code",
   "execution_count": 18,
   "id": "6e21e397",
   "metadata": {},
   "outputs": [
    {
     "data": {
      "text/plain": [
       "MultinomialNB(alpha=0.1)"
      ]
     },
     "execution_count": 18,
     "metadata": {},
     "output_type": "execute_result"
    }
   ],
   "source": [
    "\n",
    "### Multinomial Naive Bayes Classifier ###\n",
    "# The alpha parameter was determined by grid search previously\n",
    "from sklearn.naive_bayes import MultinomialNB\n",
    "classifier = MultinomialNB(alpha=0.1)\n",
    "classifier.fit(X_train, y_train)\n"
   ]
  },
  {
   "cell_type": "code",
   "execution_count": 19,
   "id": "c8e44f86",
   "metadata": {},
   "outputs": [],
   "source": [
    "y_pred = classifier.predict(X_test)\n"
   ]
  },
  {
   "cell_type": "code",
   "execution_count": null,
   "id": "323255f6",
   "metadata": {},
   "outputs": [],
   "source": []
  },
  {
   "cell_type": "code",
   "execution_count": 20,
   "id": "dcaaca3f",
   "metadata": {},
   "outputs": [
    {
     "name": "stdout",
     "output_type": "stream",
     "text": [
      "Confusion matrix on human genes\n",
      "\n",
      "Predicted   0    1   2    3    4   5    6\n",
      "Actual                                   \n",
      "0          99    0   0    0    1   0    2\n",
      "1           0  104   0    0    0   0    2\n",
      "2           0    0  78    0    0   0    0\n",
      "3           0    0   0  124    0   0    1\n",
      "4           1    0   0    0  143   0    5\n",
      "5           0    0   0    0    0  51    0\n",
      "6           1    0   0    1    0   0  263\n",
      "accuracy = 0.984 \n",
      "precision = 0.984 \n",
      "recall = 0.984 \n",
      "f1 = 0.984\n"
     ]
    }
   ],
   "source": [
    "from sklearn.metrics import accuracy_score, f1_score, precision_score, recall_score\n",
    "print(\"Confusion matrix on human genes\\n\")\n",
    "print(pd.crosstab(pd.Series(y_test, name='Actual'), pd.Series(y_pred, name='Predicted')))\n",
    "def get_metrics(y_test, y_predicted):\n",
    "    accuracy = accuracy_score(y_test, y_predicted)\n",
    "    precision = precision_score(y_test, y_predicted, average='weighted')\n",
    "    recall = recall_score(y_test, y_predicted, average='weighted')\n",
    "    f1 = f1_score(y_test, y_predicted, average='weighted')\n",
    "    return accuracy, precision, recall, f1\n",
    "accuracy, precision, recall, f1 = get_metrics(y_test, y_pred)\n",
    "print(\"accuracy = %.3f \\nprecision = %.3f \\nrecall = %.3f \\nf1 = %.3f\" % (accuracy, precision, recall, f1))\n"
   ]
  },
  {
   "cell_type": "code",
   "execution_count": null,
   "id": "8176d338",
   "metadata": {},
   "outputs": [],
   "source": []
  },
  {
   "cell_type": "code",
   "execution_count": 21,
   "id": "66ac0df4",
   "metadata": {},
   "outputs": [
    {
     "name": "stdout",
     "output_type": "stream",
     "text": [
      "Confusion matrix on chimp genes\n",
      "\n",
      "Predicted    0    1    2    3    4    5    6\n",
      "Actual                                      \n",
      "0          232    0    0    0    0    0    2\n",
      "1            0  184    0    0    0    0    1\n",
      "2            0    0  144    0    0    0    0\n",
      "3            0    0    0  227    0    0    1\n",
      "4            2    0    0    0  254    0    5\n",
      "5            0    0    0    0    0  109    0\n",
      "6            0    0    0    0    0    0  521\n",
      "accuracy = 0.993 \n",
      "precision = 0.994 \n",
      "recall = 0.993 \n",
      "f1 = 0.993\n"
     ]
    }
   ],
   "source": [
    "# Predicting the chimp, dog and worm sequences\n",
    "y_pred_chimp = classifier.predict(X_chimp)\n",
    "y_pred_dog = classifier.predict(X_dog)\n",
    "\n",
    "# performance on chimp genes\n",
    "print(\"Confusion matrix on chimp genes\\n\")\n",
    "print(pd.crosstab(pd.Series(y_c, name='Actual'), pd.Series(y_pred_chimp, name='Predicted')))\n",
    "accuracy, precision, recall, f1 = get_metrics(y_c, y_pred_chimp)\n",
    "print(\"accuracy = %.3f \\nprecision = %.3f \\nrecall = %.3f \\nf1 = %.3f\" % (accuracy, precision, recall, f1))\n",
    "\n"
   ]
  },
  {
   "cell_type": "code",
   "execution_count": 22,
   "id": "fd7e0667",
   "metadata": {},
   "outputs": [
    {
     "name": "stdout",
     "output_type": "stream",
     "text": [
      "Confusion matrix on dog genes\n",
      "\n",
      "Predicted    0   1   2   3    4   5    6\n",
      "Actual                                  \n",
      "0          127   0   0   0    0   0    4\n",
      "1            0  63   0   0    1   0   11\n",
      "2            0   0  49   0    1   0   14\n",
      "3            1   0   0  81    2   0   11\n",
      "4            4   0   0   1  126   0    4\n",
      "5            4   0   0   0    1  53    2\n",
      "6            0   0   0   0    0   0  260\n",
      "accuracy = 0.926 \n",
      "precision = 0.934 \n",
      "recall = 0.926 \n",
      "f1 = 0.925\n"
     ]
    }
   ],
   "source": [
    "# performance on dog genes\n",
    "print(\"Confusion matrix on dog genes\\n\")\n",
    "print(pd.crosstab(pd.Series(y_d, name='Actual'), pd.Series(y_pred_dog, name='Predicted')))\n",
    "accuracy, precision, recall, f1 = get_metrics(y_d, y_pred_dog)\n",
    "print(\"accuracy = %.3f \\nprecision = %.3f \\nrecall = %.3f \\nf1 = %.3f\" % (accuracy, precision, recall, f1))\n"
   ]
  },
  {
   "cell_type": "code",
   "execution_count": null,
   "id": "f01a6b8f",
   "metadata": {},
   "outputs": [],
   "source": []
  }
 ],
 "metadata": {
  "kernelspec": {
   "display_name": "Python 3 (ipykernel)",
   "language": "python",
   "name": "python3"
  },
  "language_info": {
   "codemirror_mode": {
    "name": "ipython",
    "version": 3
   },
   "file_extension": ".py",
   "mimetype": "text/x-python",
   "name": "python",
   "nbconvert_exporter": "python",
   "pygments_lexer": "ipython3",
   "version": "3.9.13"
  }
 },
 "nbformat": 4,
 "nbformat_minor": 5
}
